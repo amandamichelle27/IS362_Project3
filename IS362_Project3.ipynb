{
 "cells": [
  {
   "cell_type": "code",
   "execution_count": 29,
   "metadata": {
    "scrolled": true
   },
   "outputs": [
    {
     "name": "stdout",
     "output_type": "stream",
     "text": [
      "   LastName FirstName                     Name                Title\n",
      "52  Almeida   Roberto  Right Next Door to Hell  Use Your Illusion I\n",
      "84  Almeida   Roberto             Mateus Enter       Afrociberdelia\n",
      "85  Almeida   Roberto            Samba Do Lado       Afrociberdelia\n",
      "87  Almeida   Roberto    Um Satélite Na Cabeça       Afrociberdelia\n",
      "88  Almeida   Roberto            Amor De Muito       Afrociberdelia\n"
     ]
    }
   ],
   "source": [
    "# Third-party imports.\n",
    "from pandas import read_sql_table\n",
    "from sqlalchemy import create_engine\n",
    "\n",
    "# Create the SQLite3 engine.\n",
    "engine = create_engine(r\"sqlite:///C:\\Users\\Amanda\\Downloads\\chinook.db\")\n",
    "\n",
    "# Read in the required tables.\n",
    "customers = read_sql_table(\"customers\", engine)\n",
    "invoices = read_sql_table(\"invoices\", engine)\n",
    "invoice_items = read_sql_table(\"invoice_items\", engine)\n",
    "tracks = read_sql_table(\"tracks\", engine)\n",
    "albums = read_sql_table(\"albums\", engine)\n",
    "\n",
    "# Perform the necessary joins.\n",
    "data = (customers.merge(invoices, on=\"CustomerId\")\n",
    "                 .merge(invoice_items, on=\"InvoiceId\")\n",
    "                 .merge(tracks, on=\"TrackId\")\n",
    "                 .merge(albums, on=\"AlbumId\"))\n",
    "        \n",
    "# Clean-up the data.\n",
    "result = data[[\"LastName\", \"FirstName\", \"Name\", \"Title\"]].sort_values([\"LastName\", \"FirstName\"])\n",
    "print(result.head())"
   ]
  },
  {
   "cell_type": "code",
   "execution_count": null,
   "metadata": {
    "collapsed": true
   },
   "outputs": [],
   "source": []
  }
 ],
 "metadata": {
  "kernelspec": {
   "display_name": "Python 3",
   "language": "python",
   "name": "python3"
  },
  "language_info": {
   "codemirror_mode": {
    "name": "ipython",
    "version": 3
   },
   "file_extension": ".py",
   "mimetype": "text/x-python",
   "name": "python",
   "nbconvert_exporter": "python",
   "pygments_lexer": "ipython3",
   "version": "3.6.3"
  }
 },
 "nbformat": 4,
 "nbformat_minor": 2
}
